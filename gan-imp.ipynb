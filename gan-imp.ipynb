{
 "cells": [
  {
   "cell_type": "markdown",
   "id": "0409e58c",
   "metadata": {},
   "source": [
    "# GAN Implementation"
   ]
  },
  {
   "cell_type": "code",
   "execution_count": 1,
   "id": "c5622e66",
   "metadata": {},
   "outputs": [],
   "source": [
    "import numpy as np\n",
    "import pandas as pd\n",
    "import random\n",
    "import matplotlib.pyplot as plt"
   ]
  },
  {
   "cell_type": "code",
   "execution_count": 2,
   "id": "4742c43a",
   "metadata": {},
   "outputs": [
    {
     "name": "stdout",
     "output_type": "stream",
     "text": [
      "Init Plugin\n",
      "Init Graph Optimizer\n",
      "Init Kernel\n"
     ]
    }
   ],
   "source": [
    "import tensorflow as tf\n",
    "from tensorflow.keras.datasets import mnist\n",
    "from tensorflow.keras.layers import Dense, Flatten, Reshape\n",
    "from tensorflow.keras.models import Sequential"
   ]
  },
  {
   "cell_type": "code",
   "execution_count": 3,
   "id": "d0423316",
   "metadata": {},
   "outputs": [],
   "source": [
    "random.seed(2003)"
   ]
  },
  {
   "cell_type": "code",
   "execution_count": 4,
   "id": "9b9021b8",
   "metadata": {},
   "outputs": [],
   "source": [
    "(xTrain, yTrain), (xTest, yTest) = mnist.load_data()"
   ]
  },
  {
   "cell_type": "code",
   "execution_count": 5,
   "id": "27679b82",
   "metadata": {},
   "outputs": [],
   "source": [
    "random_idx = random.randint(0, len(xTrain) - 1)"
   ]
  },
  {
   "cell_type": "code",
   "execution_count": 6,
   "id": "fa78d963",
   "metadata": {},
   "outputs": [
    {
     "data": {
      "text/plain": [
       "<matplotlib.image.AxesImage at 0x16a5b7250>"
      ]
     },
     "execution_count": 6,
     "metadata": {},
     "output_type": "execute_result"
    },
    {
     "data": {
      "image/png": "[encoded data removed]",
      "text/plain": [
       "<Figure size 432x288 with 1 Axes>"
      ]
     },
     "metadata": {
      "needs_background": "light"
     },
     "output_type": "display_data"
    }
   ],
   "source": [
    "plt.imshow(xTrain[random_idx])"
   ]
  },
  {
   "cell_type": "code",
   "execution_count": 7,
   "id": "85c8f03f",
   "metadata": {},
   "outputs": [
    {
     "data": {
      "text/plain": [
       "5"
      ]
     },
     "execution_count": 7,
     "metadata": {},
     "output_type": "execute_result"
    }
   ],
   "source": [
    "yTrain[random_idx]"
   ]
  },
  {
   "cell_type": "code",
   "execution_count": 8,
   "id": "15ecd360",
   "metadata": {},
   "outputs": [
    {
     "data": {
      "text/plain": [
       "array([5, 0, 4, ..., 5, 6, 8], dtype=uint8)"
      ]
     },
     "execution_count": 8,
     "metadata": {},
     "output_type": "execute_result"
    }
   ],
   "source": [
    "yTrain"
   ]
  },
  {
   "cell_type": "code",
   "execution_count": 9,
   "id": "c428a2f9",
   "metadata": {},
   "outputs": [
    {
     "data": {
      "text/plain": [
       "(5923, 28, 28)"
      ]
     },
     "execution_count": 9,
     "metadata": {},
     "output_type": "execute_result"
    }
   ],
   "source": [
    "'''we will filter out the data to get a little bit of a smaller dataset for faster training, \n",
    "and to clearly understand the generator is working properly or not.'''\n",
    "\n",
    "only_zeros = xTrain[yTrain == 0]\n",
    "only_zeros.shape"
   ]
  },
  {
   "cell_type": "code",
   "execution_count": 10,
   "id": "96bed1a4",
   "metadata": {},
   "outputs": [
    {
     "data": {
      "text/plain": [
       "(60000, 28, 28)"
      ]
     },
     "execution_count": 10,
     "metadata": {},
     "output_type": "execute_result"
    }
   ],
   "source": [
    "xTrain.shape"
   ]
  },
  {
   "cell_type": "code",
   "execution_count": 11,
   "id": "1e051207",
   "metadata": {},
   "outputs": [
    {
     "data": {
      "text/plain": [
       "<matplotlib.image.AxesImage at 0x16a6c3580>"
      ]
     },
     "execution_count": 11,
     "metadata": {},
     "output_type": "execute_result"
    },
    {
     "data": {
      "image/png": "[encoded data removed]",
      "text/plain": [
       "<Figure size 432x288 with 1 Axes>"
      ]
     },
     "metadata": {
      "needs_background": "light"
     },
     "output_type": "display_data"
    }
   ],
   "source": [
    "random_idx = random.randint(0, len(only_zeros) - 1)\n",
    "plt.imshow(only_zeros[random_idx])"
   ]
  },
  {
   "cell_type": "code",
   "execution_count": 12,
   "id": "134ac0ba",
   "metadata": {},
   "outputs": [
    {
     "name": "stdout",
     "output_type": "stream",
     "text": [
      "Metal device set to: Apple M1\n"
     ]
    },
    {
     "name": "stderr",
     "output_type": "stream",
     "text": [
      "2022-08-06 00:06:47.806251: I tensorflow/core/common_runtime/pluggable_device/pluggable_device_factory.cc:305] Could not identify NUMA node of platform GPU ID 0, defaulting to 0. Your kernel may not have been built with NUMA support.\n",
      "2022-08-06 00:06:47.806375: I tensorflow/core/common_runtime/pluggable_device/pluggable_device_factory.cc:271] Created TensorFlow device (/job:localhost/replica:0/task:0/device:GPU:0 with 0 MB memory) -> physical PluggableDevice (device: 0, name: METAL, pci bus id: <undefined>)\n"
     ]
    }
   ],
   "source": [
    "discriminator = Sequential()\n",
    "\n",
    "discriminator.add(Flatten(input_shape= [28, 28]))\n",
    "discriminator.add(Dense(150, activation= 'relu'))\n",
    "discriminator.add(Dense(100, activation= 'relu'))\n",
    "# FINAL OUTPUT — IS IMAGE FAKE OR NOT? (BINARY CLF)\n",
    "discriminator.add(Dense(1, activation= 'sigmoid'))"
   ]
  },
  {
   "cell_type": "code",
   "execution_count": 13,
   "id": "1c6245f4",
   "metadata": {},
   "outputs": [],
   "source": [
    "discriminator.compile(optimizer= 'adam', loss= 'binary_crossentropy')"
   ]
  },
  {
   "cell_type": "code",
   "execution_count": 14,
   "id": "7afc9016",
   "metadata": {},
   "outputs": [],
   "source": [
    "codingsSize = 100\n",
    "# 784 (28 ^ 2) --> 150 --> 100 --> 150 --> 784\n",
    "\n",
    "generator = Sequential()\n",
    "#  what's reliant on this first layering generator below is the input_shape.\n",
    "generator.add(Dense(100, activation= 'relu', input_shape= [codingsSize]))\n",
    "generator.add(Dense(150, activation= 'relu'))\n",
    "generator.add(Dense(784, activation= 'relu'))\n",
    "generator.add(Reshape(target_shape= [28, 28]))"
   ]
  },
  {
   "cell_type": "code",
   "execution_count": 15,
   "id": "d5b44a8c",
   "metadata": {},
   "outputs": [],
   "source": [
    "# instead of compiling generator first, create GAN\n",
    "\n",
    "GAN = Sequential([generator, discriminator])"
   ]
  },
  {
   "cell_type": "code",
   "execution_count": 16,
   "id": "9108a461",
   "metadata": {},
   "outputs": [],
   "source": [
    "discriminator.trainable = False"
   ]
  },
  {
   "cell_type": "code",
   "execution_count": 17,
   "id": "124a2c54",
   "metadata": {},
   "outputs": [],
   "source": [
    "GAN.compile(optimizer= 'adam', loss= 'binary_crossentropy')"
   ]
  },
  {
   "cell_type": "markdown",
   "id": "b2eba680",
   "metadata": {},
   "source": [
    "### Training Batches"
   ]
  },
  {
   "cell_type": "code",
   "execution_count": 18,
   "id": "65734338",
   "metadata": {},
   "outputs": [],
   "source": [
    "batch_size = 32 # to make training model go faster increase the batch size"
   ]
  },
  {
   "cell_type": "code",
   "execution_count": 19,
   "id": "6be63d67",
   "metadata": {},
   "outputs": [],
   "source": [
    "# my_data = xTrain\n",
    "my_data = only_zeros"
   ]
  },
  {
   "cell_type": "code",
   "execution_count": 20,
   "id": "b66431b3",
   "metadata": {},
   "outputs": [],
   "source": [
    "dataset = tf.data.Dataset.from_tensor_slices(my_data).shuffle(buffer_size= 1000)"
   ]
  },
  {
   "cell_type": "code",
   "execution_count": 21,
   "id": "93fd0d72",
   "metadata": {},
   "outputs": [
    {
     "data": {
      "text/plain": [
       "tensorflow.python.data.ops.dataset_ops.ShuffleDataset"
      ]
     },
     "execution_count": 21,
     "metadata": {},
     "output_type": "execute_result"
    }
   ],
   "source": [
    "type(dataset)"
   ]
  },
  {
   "cell_type": "code",
   "execution_count": 22,
   "id": "60827275",
   "metadata": {},
   "outputs": [],
   "source": [
    "dataset = dataset.batch(batch_size, drop_remainder= True).prefetch(1)"
   ]
  },
  {
   "cell_type": "code",
   "execution_count": 23,
   "id": "32f6fc06",
   "metadata": {},
   "outputs": [
    {
     "data": {
      "text/plain": [
       "(5923, 28, 28)"
      ]
     },
     "execution_count": 23,
     "metadata": {},
     "output_type": "execute_result"
    }
   ],
   "source": [
    "my_data.shape"
   ]
  },
  {
   "cell_type": "code",
   "execution_count": 24,
   "id": "fd2acef3",
   "metadata": {},
   "outputs": [
    {
     "data": {
      "text/plain": [
       "185.09375"
      ]
     },
     "execution_count": 24,
     "metadata": {},
     "output_type": "execute_result"
    }
   ],
   "source": [
    "5923 / 32"
   ]
  },
  {
   "cell_type": "code",
   "execution_count": 25,
   "id": "482d0ddf",
   "metadata": {},
   "outputs": [],
   "source": [
    "# the .09375 part of the batch will be dropped due to the drop_remainder param\n",
    "# clean batches = 185"
   ]
  },
  {
   "cell_type": "code",
   "execution_count": 26,
   "id": "6696806a",
   "metadata": {},
   "outputs": [],
   "source": [
    "epochs = 1 # train for one epoch, and after that we should be able to see start generating zeros"
   ]
  },
  {
   "cell_type": "code",
   "execution_count": 27,
   "id": "f30afc46",
   "metadata": {},
   "outputs": [
    {
     "data": {
      "text/plain": [
       "<tensorflow.python.keras.engine.sequential.Sequential at 0x17a19ff70>"
      ]
     },
     "execution_count": 27,
     "metadata": {},
     "output_type": "execute_result"
    }
   ],
   "source": [
    "GAN"
   ]
  },
  {
   "cell_type": "code",
   "execution_count": 28,
   "id": "3385a7af",
   "metadata": {},
   "outputs": [
    {
     "data": {
      "text/plain": [
       "[<tensorflow.python.keras.engine.sequential.Sequential at 0x17a1ac7c0>,\n",
       " <tensorflow.python.keras.engine.sequential.Sequential at 0x16a81dbe0>]"
      ]
     },
     "execution_count": 28,
     "metadata": {},
     "output_type": "execute_result"
    }
   ],
   "source": [
    "GAN.layers"
   ]
  },
  {
   "cell_type": "code",
   "execution_count": 29,
   "id": "dd1e437f",
   "metadata": {},
   "outputs": [
    {
     "data": {
      "text/plain": [
       "[<tensorflow.python.keras.layers.core.Dense at 0x17a1ac7f0>,\n",
       " <tensorflow.python.keras.layers.core.Dense at 0x17a1ac070>,\n",
       " <tensorflow.python.keras.layers.core.Dense at 0x17a21cb20>,\n",
       " <tensorflow.python.keras.layers.core.Reshape at 0x17b633be0>]"
      ]
     },
     "execution_count": 29,
     "metadata": {},
     "output_type": "execute_result"
    }
   ],
   "source": [
    "GAN.layers[0].layers # generator"
   ]
  },
  {
   "cell_type": "code",
   "execution_count": 30,
   "id": "944c8bfd",
   "metadata": {},
   "outputs": [
    {
     "data": {
      "text/plain": [
       "[<tensorflow.python.keras.layers.core.Flatten at 0x16a81dc40>,\n",
       " <tensorflow.python.keras.layers.core.Dense at 0x16a81dbb0>,\n",
       " <tensorflow.python.keras.layers.core.Dense at 0x179106eb0>,\n",
       " <tensorflow.python.keras.layers.core.Dense at 0x17a1acf70>]"
      ]
     },
     "execution_count": 30,
     "metadata": {},
     "output_type": "execute_result"
    }
   ],
   "source": [
    "GAN.layers[1].layers # discriminator"
   ]
  },
  {
   "cell_type": "code",
   "execution_count": 31,
   "id": "ed9cce9e",
   "metadata": {},
   "outputs": [
    {
     "name": "stdout",
     "output_type": "stream",
     "text": [
      "Model: \"sequential_1\"\n",
      "_________________________________________________________________\n",
      "Layer (type)                 Output Shape              Param #   \n",
      "=================================================================\n",
      "dense_3 (Dense)              (None, 100)               10100     \n",
      "_________________________________________________________________\n",
      "dense_4 (Dense)              (None, 150)               15150     \n",
      "_________________________________________________________________\n",
      "dense_5 (Dense)              (None, 784)               118384    \n",
      "_________________________________________________________________\n",
      "reshape (Reshape)            (None, 28, 28)            0         \n",
      "=================================================================\n",
      "Total params: 143,634\n",
      "Trainable params: 143,634\n",
      "Non-trainable params: 0\n",
      "_________________________________________________________________\n",
      "Model: \"sequential\"\n",
      "_________________________________________________________________\n",
      "Layer (type)                 Output Shape              Param #   \n",
      "=================================================================\n",
      "flatten (Flatten)            (None, 784)               0         \n",
      "_________________________________________________________________\n",
      "dense (Dense)                (None, 150)               117750    \n",
      "_________________________________________________________________\n",
      "dense_1 (Dense)              (None, 100)               15100     \n",
      "_________________________________________________________________\n",
      "dense_2 (Dense)              (None, 1)                 101       \n",
      "=================================================================\n",
      "Total params: 132,951\n",
      "Trainable params: 0\n",
      "Non-trainable params: 132,951\n",
      "_________________________________________________________________\n"
     ]
    }
   ],
   "source": [
    "# summaries of generator and discriminator\n",
    "\n",
    "GAN.layers[0].summary()\n",
    "GAN.layers[1].summary()"
   ]
  },
  {
   "cell_type": "code",
   "execution_count": 32,
   "id": "c554cd5d",
   "metadata": {},
   "outputs": [
    {
     "name": "stdout",
     "output_type": "stream",
     "text": [
      "Currently on Epoch 1\n"
     ]
    },
    {
     "name": "stderr",
     "output_type": "stream",
     "text": [
      "2022-08-06 00:06:48.164800: I tensorflow/compiler/mlir/mlir_graph_optimization_pass.cc:176] None of the MLIR Optimization Passes are enabled (registered 2)\n",
      "2022-08-06 00:06:48.165501: W tensorflow/core/platform/profile_utils/cpu_utils.cc:128] Failed to get CPU frequency: 0 Hz\n",
      "2022-08-06 00:06:48.165550: I tensorflow/core/grappler/optimizers/custom_graph_optimizer_registry.cc:112] Plugin optimizer for device_type GPU is enabled.\n",
      "2022-08-06 00:06:48.372170: I tensorflow/core/grappler/optimizers/custom_graph_optimizer_registry.cc:112] Plugin optimizer for device_type GPU is enabled.\n"
     ]
    },
    {
     "name": "stdout",
     "output_type": "stream",
     "text": [
      "\t Currently on batch number 10 of 185\n",
      "\t Currently on batch number 20 of 185\n",
      "\t Currently on batch number 30 of 185\n",
      "\t Currently on batch number 40 of 185\n",
      "\t Currently on batch number 50 of 185\n",
      "\t Currently on batch number 60 of 185\n",
      "\t Currently on batch number 70 of 185\n",
      "\t Currently on batch number 80 of 185\n",
      "\t Currently on batch number 90 of 185\n",
      "\t Currently on batch number 100 of 185\n",
      "\t Currently on batch number 110 of 185\n",
      "\t Currently on batch number 120 of 185\n",
      "\t Currently on batch number 130 of 185\n",
      "\t Currently on batch number 140 of 185\n",
      "\t Currently on batch number 150 of 185\n",
      "\t Currently on batch number 160 of 185\n",
      "\t Currently on batch number 170 of 185\n",
      "\t Currently on batch number 180 of 185\n"
     ]
    }
   ],
   "source": [
    "# unpacking the model to list of layers\n",
    "\n",
    "generator, discriminator = GAN.layers\n",
    "\n",
    "for epoch in range(epochs):\n",
    "    print(f'Currently on Epoch {epoch + 1}')\n",
    "    i = 0\n",
    "    \n",
    "    for xBatch in dataset:\n",
    "        i += 1\n",
    "        if i % 10 == 0:\n",
    "            print(f'\\t Currently on batch number {i} of {len(my_data) // batch_size}')\n",
    "        \n",
    "        # DISCRIMINATOR TRAINING PHASE \n",
    "        noise = tf.random.normal(shape= [batch_size, codingsSize])\n",
    "        # the generator never actually sees any mnist digits images, only noise being fed onto it\n",
    "        generated_images = generator(noise)\n",
    "        X_fake_vs_real = tf.concat([generated_images, tf.dtypes.cast(xBatch, tf.float32)], axis= 0)\n",
    "        \n",
    "        y1 = tf.constant([[0.0]] * batch_size + [[1.0]] * batch_size)\n",
    "        # 0's --> not true for the generated_images\n",
    "        # 1's --> true for the actual images on the xBatch\n",
    "        \n",
    "        discriminator.trainable = True\n",
    "        discriminator.train_on_batch(X_fake_vs_real, y1)\n",
    "        \n",
    "        # TRAIN GENERATOR\n",
    "        # create some random noise again\n",
    "        noise = tf.random.normal(shape= [batch_size, codingsSize])\n",
    "        y2 = tf.constant([[1.0]] * batch_size)\n",
    "        discriminator.trainable = False\n",
    "        GAN.train_on_batch(noise, y2)"
   ]
  },
  {
   "cell_type": "code",
   "execution_count": 33,
   "id": "fb991ed6",
   "metadata": {},
   "outputs": [],
   "source": [
    "# arbitrarily chosen number of fake images, let's say 10\n",
    "noise = tf.random.normal(shape= [10, codingsSize])"
   ]
  },
  {
   "cell_type": "code",
   "execution_count": 34,
   "id": "a1fd7f12",
   "metadata": {},
   "outputs": [
    {
     "data": {
      "text/plain": [
       "TensorShape([10, 100])"
      ]
     },
     "execution_count": 34,
     "metadata": {},
     "output_type": "execute_result"
    }
   ],
   "source": [
    "noise.shape"
   ]
  },
  {
   "cell_type": "code",
   "execution_count": 35,
   "id": "072f73f1",
   "metadata": {},
   "outputs": [
    {
     "data": {
      "text/plain": [
       "<matplotlib.image.AxesImage at 0x28141cdf0>"
      ]
     },
     "execution_count": 35,
     "metadata": {},
     "output_type": "execute_result"
    },
    {
     "data": {
      "image/png": "[encoded data removed]",
      "text/plain": [
       "<Figure size 1008x432 with 1 Axes>"
      ]
     },
     "metadata": {
      "needs_background": "light"
     },
     "output_type": "display_data"
    }
   ],
   "source": [
    "plt.figure(figsize= (14, 6))\n",
    "plt.imshow(noise)"
   ]
  },
  {
   "cell_type": "code",
   "execution_count": 36,
   "id": "1949d2cc",
   "metadata": {},
   "outputs": [],
   "source": [
    "images = generator(noise)"
   ]
  },
  {
   "cell_type": "code",
   "execution_count": 37,
   "id": "3a9fb810",
   "metadata": {},
   "outputs": [
    {
     "data": {
      "text/plain": [
       "TensorShape([10, 28, 28])"
      ]
     },
     "execution_count": 37,
     "metadata": {},
     "output_type": "execute_result"
    }
   ],
   "source": [
    "images.shape"
   ]
  },
  {
   "cell_type": "code",
   "execution_count": 38,
   "id": "9cdd338d",
   "metadata": {
    "scrolled": false
   },
   "outputs": [
    {
     "data": {
      "text/plain": [
       "<tf.Tensor: shape=(28, 28), dtype=float32, numpy=\n",
       "array([[0.        , 0.        , 0.        , 0.        , 0.        ,\n",
       "        0.        , 0.        , 0.        , 0.        , 0.        ,\n",
       "        0.        , 0.        , 0.        , 0.        , 0.        ,\n",
       "        0.        , 0.        , 0.        , 0.        , 0.        ,\n",
       "        0.        , 0.        , 0.        , 0.        , 0.        ,\n",
       "        0.        , 0.        , 0.        ],\n",
       "       [0.        , 0.        , 0.        , 0.        , 0.        ,\n",
       "        0.        , 0.        , 0.        , 0.        , 0.        ,\n",
       "        0.        , 0.        , 0.        , 0.        , 0.        ,\n",
       "        0.        , 0.        , 0.        , 0.        , 0.        ,\n",
       "        0.        , 0.        , 0.        , 0.        , 0.        ,\n",
       "        0.        , 0.        , 0.        ],\n",
       "       [0.        , 0.        , 0.        , 0.        , 0.        ,\n",
       "        0.        , 0.        , 0.        , 0.        , 0.        ,\n",
       "        0.        , 0.        , 0.        , 0.        , 0.        ,\n",
       "        0.        , 0.        , 0.        , 0.        , 0.        ,\n",
       "        0.        , 0.        , 0.        , 0.        , 0.        ,\n",
       "        0.        , 0.        , 0.        ],\n",
       "       [0.        , 0.        , 0.        , 0.        , 0.        ,\n",
       "        0.        , 0.        , 0.        , 0.        , 0.        ,\n",
       "        0.        , 0.        , 0.        , 0.        , 0.        ,\n",
       "        0.        , 0.        , 0.        , 0.        , 0.        ,\n",
       "        0.        , 0.        , 0.        , 0.        , 0.        ,\n",
       "        0.        , 0.        , 0.        ],\n",
       "       [0.        , 0.        , 0.        , 0.        , 0.        ,\n",
       "        0.        , 0.        , 0.        , 0.        , 0.        ,\n",
       "        0.        , 0.        , 1.29195   , 0.        , 0.        ,\n",
       "        0.        , 1.5448103 , 0.        , 0.        , 0.        ,\n",
       "        0.        , 0.        , 0.        , 0.        , 0.        ,\n",
       "        0.        , 0.        , 0.        ],\n",
       "       [0.        , 0.        , 0.        , 0.        , 0.        ,\n",
       "        0.        , 0.        , 0.        , 0.        , 0.        ,\n",
       "        0.        , 0.59307915, 0.9959446 , 0.        , 0.41030264,\n",
       "        0.        , 0.        , 0.05195595, 1.9081516 , 0.        ,\n",
       "        0.        , 0.        , 0.69617194, 0.        , 0.        ,\n",
       "        0.        , 0.        , 0.        ],\n",
       "       [0.        , 0.        , 0.        , 0.        , 0.        ,\n",
       "        0.        , 0.        , 0.        , 0.4750791 , 0.        ,\n",
       "        0.        , 0.        , 0.3030717 , 0.        , 1.9836167 ,\n",
       "        0.        , 0.        , 0.        , 0.        , 0.        ,\n",
       "        0.9250193 , 0.        , 0.        , 0.        , 0.        ,\n",
       "        0.        , 0.        , 0.        ],\n",
       "       [0.        , 0.        , 0.        , 0.        , 0.        ,\n",
       "        0.        , 0.        , 0.        , 0.        , 0.        ,\n",
       "        0.        , 2.048556  , 1.945781  , 0.        , 0.        ,\n",
       "        0.        , 0.        , 0.47188255, 0.        , 2.360472  ,\n",
       "        0.        , 0.        , 0.        , 0.        , 0.        ,\n",
       "        0.        , 0.        , 0.        ],\n",
       "       [0.        , 0.        , 0.        , 0.        , 0.        ,\n",
       "        0.        , 0.        , 1.4434891 , 2.2834864 , 1.4602388 ,\n",
       "        0.        , 0.        , 0.        , 1.6501695 , 0.        ,\n",
       "        0.        , 1.6605858 , 0.        , 0.        , 1.7317677 ,\n",
       "        0.        , 0.        , 0.        , 0.        , 0.        ,\n",
       "        0.        , 0.        , 0.        ],\n",
       "       [0.        , 0.        , 0.        , 0.        , 0.        ,\n",
       "        0.        , 0.23822147, 0.        , 0.72238684, 0.        ,\n",
       "        2.1693285 , 1.7403008 , 1.4493104 , 1.2183586 , 0.        ,\n",
       "        0.        , 0.        , 0.        , 0.48627967, 0.        ,\n",
       "        0.22666827, 0.        , 0.        , 0.        , 0.        ,\n",
       "        0.        , 0.        , 0.        ],\n",
       "       [0.        , 0.        , 0.        , 0.        , 0.        ,\n",
       "        0.        , 0.        , 0.        , 0.        , 1.4397477 ,\n",
       "        0.        , 0.49637067, 0.        , 0.        , 2.126653  ,\n",
       "        0.        , 0.10637755, 0.        , 0.        , 0.        ,\n",
       "        0.24505554, 0.        , 0.        , 0.5549511 , 0.        ,\n",
       "        0.        , 0.        , 0.        ],\n",
       "       [0.        , 0.        , 0.        , 0.        , 0.        ,\n",
       "        0.        , 0.        , 1.7688763 , 1.0608585 , 0.        ,\n",
       "        0.        , 0.        , 0.        , 0.        , 0.        ,\n",
       "        0.        , 1.0916212 , 0.        , 1.0048901 , 0.        ,\n",
       "        0.98450744, 0.        , 0.        , 0.        , 0.3026567 ,\n",
       "        0.        , 0.        , 0.        ],\n",
       "       [0.        , 0.        , 0.        , 0.        , 0.        ,\n",
       "        0.        , 2.3396513 , 0.        , 0.        , 0.        ,\n",
       "        0.        , 0.        , 0.        , 0.        , 0.66738605,\n",
       "        0.        , 0.        , 1.2569144 , 0.        , 0.        ,\n",
       "        0.        , 0.        , 0.        , 0.        , 0.        ,\n",
       "        0.        , 0.        , 0.        ],\n",
       "       [0.        , 0.        , 0.        , 0.        , 0.        ,\n",
       "        0.30921343, 0.        , 0.25312054, 0.4347281 , 2.8580334 ,\n",
       "        0.        , 0.        , 0.        , 0.        , 0.        ,\n",
       "        0.        , 0.09856517, 0.        , 0.        , 0.        ,\n",
       "        0.        , 1.2011678 , 0.        , 1.2548728 , 0.        ,\n",
       "        0.        , 0.        , 0.        ],\n",
       "       [0.        , 0.        , 0.        , 0.        , 0.        ,\n",
       "        0.        , 0.        , 0.        , 0.        , 1.8930272 ,\n",
       "        0.        , 1.5984898 , 0.34136423, 0.        , 0.        ,\n",
       "        0.        , 0.        , 0.        , 0.        , 0.        ,\n",
       "        0.        , 0.        , 0.        , 2.1895435 , 0.        ,\n",
       "        0.        , 0.        , 0.        ],\n",
       "       [0.        , 0.        , 0.        , 0.        , 0.7194732 ,\n",
       "        0.        , 0.61037695, 0.        , 2.110521  , 0.        ,\n",
       "        0.        , 0.        , 0.        , 0.        , 0.        ,\n",
       "        0.        , 0.        , 1.6029817 , 0.        , 0.        ,\n",
       "        0.        , 0.64988446, 0.        , 0.        , 0.        ,\n",
       "        0.        , 0.        , 0.        ],\n",
       "       [0.        , 0.        , 0.        , 0.        , 0.        ,\n",
       "        0.        , 0.        , 0.        , 0.        , 1.681123  ,\n",
       "        0.        , 0.18984082, 0.34190702, 0.        , 0.        ,\n",
       "        0.        , 0.31324646, 0.35117623, 0.        , 0.        ,\n",
       "        0.07508171, 1.3512651 , 0.        , 0.        , 0.        ,\n",
       "        0.        , 0.        , 0.        ],\n",
       "       [0.        , 0.        , 0.        , 0.        , 0.        ,\n",
       "        0.        , 0.        , 2.3953733 , 0.        , 0.        ,\n",
       "        0.        , 0.        , 0.        , 0.        , 0.        ,\n",
       "        0.        , 0.        , 0.53605324, 0.        , 0.        ,\n",
       "        0.        , 0.        , 0.08244216, 0.62431175, 0.        ,\n",
       "        0.        , 0.        , 0.        ],\n",
       "       [0.        , 0.        , 0.        , 0.        , 0.        ,\n",
       "        0.        , 0.        , 0.        , 2.192886  , 0.        ,\n",
       "        0.        , 0.        , 0.        , 0.        , 0.        ,\n",
       "        1.4697936 , 0.        , 0.        , 0.        , 1.7636343 ,\n",
       "        0.        , 0.        , 0.        , 0.        , 0.        ,\n",
       "        0.        , 0.        , 0.        ],\n",
       "       [0.        , 0.        , 0.        , 0.        , 0.        ,\n",
       "        0.        , 0.        , 0.        , 1.9459571 , 0.        ,\n",
       "        0.        , 0.        , 0.        , 1.0170789 , 0.        ,\n",
       "        0.        , 0.        , 0.        , 0.        , 0.        ,\n",
       "        0.        , 0.        , 0.        , 0.        , 0.        ,\n",
       "        0.        , 0.        , 0.        ],\n",
       "       [0.        , 0.        , 0.        , 0.        , 0.        ,\n",
       "        0.        , 0.        , 0.        , 0.        , 0.        ,\n",
       "        0.9671017 , 1.5940788 , 0.        , 1.5553449 , 1.6236162 ,\n",
       "        0.        , 0.16525483, 0.        , 0.        , 0.        ,\n",
       "        0.5947367 , 1.1653365 , 0.        , 0.        , 0.        ,\n",
       "        0.        , 0.        , 0.        ],\n",
       "       [0.        , 0.        , 0.        , 0.        , 0.        ,\n",
       "        0.        , 0.        , 0.        , 2.4335966 , 1.8827745 ,\n",
       "        0.        , 0.        , 1.0599327 , 0.        , 0.03486465,\n",
       "        1.3348144 , 0.        , 2.3113134 , 2.705099  , 2.0474052 ,\n",
       "        0.        , 0.        , 0.5351214 , 0.        , 0.        ,\n",
       "        0.        , 0.        , 0.        ],\n",
       "       [0.        , 0.        , 0.        , 0.        , 0.02524366,\n",
       "        0.        , 0.23956585, 0.        , 0.        , 0.        ,\n",
       "        0.        , 0.        , 0.        , 0.        , 1.1291509 ,\n",
       "        0.        , 0.        , 0.        , 0.        , 0.        ,\n",
       "        1.2271136 , 0.        , 0.        , 0.        , 0.        ,\n",
       "        0.        , 0.        , 0.        ],\n",
       "       [0.        , 0.        , 0.        , 0.        , 0.        ,\n",
       "        0.        , 0.06401338, 0.7914093 , 0.        , 1.8187042 ,\n",
       "        0.        , 0.        , 0.        , 0.        , 1.3310145 ,\n",
       "        0.        , 0.        , 0.        , 0.        , 0.        ,\n",
       "        0.        , 0.        , 0.        , 0.        , 0.        ,\n",
       "        0.        , 0.        , 0.        ],\n",
       "       [0.        , 0.        , 0.        , 0.        , 0.        ,\n",
       "        0.        , 0.        , 0.        , 0.        , 0.        ,\n",
       "        0.        , 0.        , 0.        , 0.23961882, 0.        ,\n",
       "        0.        , 0.        , 0.        , 0.        , 0.        ,\n",
       "        0.        , 0.        , 0.        , 0.        , 0.        ,\n",
       "        0.        , 0.        , 0.        ],\n",
       "       [0.        , 0.        , 0.        , 0.        , 0.        ,\n",
       "        0.        , 0.        , 0.        , 0.        , 0.        ,\n",
       "        0.        , 0.        , 0.        , 0.        , 0.        ,\n",
       "        0.        , 0.        , 0.        , 0.        , 0.        ,\n",
       "        0.        , 0.        , 0.        , 0.        , 0.        ,\n",
       "        0.        , 0.        , 0.        ],\n",
       "       [0.        , 0.        , 0.        , 0.        , 0.        ,\n",
       "        0.        , 0.        , 0.        , 0.        , 0.        ,\n",
       "        0.        , 0.        , 0.        , 0.        , 0.        ,\n",
       "        0.        , 0.        , 0.        , 0.        , 0.        ,\n",
       "        0.        , 0.        , 0.        , 0.        , 0.        ,\n",
       "        0.        , 0.        , 0.        ],\n",
       "       [0.        , 0.        , 0.        , 0.        , 0.        ,\n",
       "        0.        , 0.        , 0.        , 0.        , 0.        ,\n",
       "        0.        , 0.        , 0.        , 0.        , 0.        ,\n",
       "        0.        , 0.        , 0.        , 0.        , 0.        ,\n",
       "        0.        , 0.        , 0.        , 0.        , 0.        ,\n",
       "        0.        , 0.        , 0.        ]], dtype=float32)>"
      ]
     },
     "execution_count": 38,
     "metadata": {},
     "output_type": "execute_result"
    }
   ],
   "source": [
    "images[0]"
   ]
  },
  {
   "cell_type": "code",
   "execution_count": 39,
   "id": "d37ce3fb",
   "metadata": {},
   "outputs": [
    {
     "data": {
      "text/plain": [
       "<matplotlib.image.AxesImage at 0x17b8b0070>"
      ]
     },
     "execution_count": 39,
     "metadata": {},
     "output_type": "execute_result"
    },
    {
     "data": {
      "image/png": "[encoded data removed]",
      "text/plain": [
       "<Figure size 720x720 with 1 Axes>"
      ]
     },
     "metadata": {
      "needs_background": "light"
     },
     "output_type": "display_data"
    }
   ],
   "source": [
    "plt.figure(figsize= (10, 10))\n",
    "plt.imshow(images[0])"
   ]
  }
 ],
 "metadata": {
  "kernelspec": {
   "display_name": "Python 3.9 (tensorflow)",
   "language": "python",
   "name": "tensorflow"
  },
  "language_info": {
   "codemirror_mode": {
    "name": "ipython",
    "version": 3
   },
   "file_extension": ".py",
   "mimetype": "text/x-python",
   "name": "python",
   "nbconvert_exporter": "python",
   "pygments_lexer": "ipython3",
   "version": "3.9.13"
  }
 },
 "nbformat": 4,
 "nbformat_minor": 5
}
